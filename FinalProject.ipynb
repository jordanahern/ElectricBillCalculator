{
 "cells": [
  {
   "cell_type": "code",
   "execution_count": null,
   "id": "2761dc50-9dbf-485b-8d55-003e93722c37",
   "metadata": {
    "id": "2761dc50-9dbf-485b-8d55-003e93722c37"
   },
   "outputs": [],
   "source": [
    "# Project by Jordan Ahern, Ryan Edmonds and Carson Sasso"
   ]
  },
  {
   "cell_type": "code",
   "execution_count": 2,
   "id": "cff8e619-706a-4167-a3a2-c562d37a1be3",
   "metadata": {
    "id": "cff8e619-706a-4167-a3a2-c562d37a1be3"
   },
   "outputs": [],
   "source": [
    "from IPython.core.interactiveshell import InteractiveShell\n",
    "from ipywidgets import widgets \n",
    "import json\n",
    "import urllib.parse\n",
    "import urllib.request  \n",
    "from geopy.geocoders import Nominatim\n",
    "# User has to install geopy\n",
    "\n",
    "# pretty print all cell's output and not just the last ones\n",
    "InteractiveShell.ast_node_interactivity = \"all\""
   ]
  },
  {
   "cell_type": "code",
   "execution_count": 3,
   "id": "fcff8d61-2825-496c-90ee-8965e260250f",
   "metadata": {},
   "outputs": [
    {
     "data": {
      "application/vnd.jupyter.widget-view+json": {
       "model_id": "f05c90b480e44052a9972599fc98c769",
       "version_major": 2,
       "version_minor": 0
      },
      "text/plain": [
       "HTML(value='<p><b>This code tells the user what the average electric bill would be for a household of similar …"
      ]
     },
     "metadata": {},
     "output_type": "display_data"
    },
    {
     "data": {
      "application/vnd.jupyter.widget-view+json": {
       "model_id": "59e4cce04a6740fd90561945f7cd6ae6",
       "version_major": 2,
       "version_minor": 0
      },
      "text/plain": [
       "Output()"
      ]
     },
     "metadata": {},
     "output_type": "display_data"
    },
    {
     "data": {
      "application/vnd.jupyter.widget-view+json": {
       "model_id": "0a77dc674e5146ccb82237af5898ed87",
       "version_major": 2,
       "version_minor": 0
      },
      "text/plain": [
       "HBox(children=(VBox(children=(Select(description='Select family size', options=(1, 2, 3, 4, 5, 6, 7, 8, 9, 10)…"
      ]
     },
     "metadata": {},
     "output_type": "display_data"
    }
   ],
   "source": [
    "# Basic HTML below adds instructions to the top of our code. Includes elements such as bold face type. \n",
    "widgets.HTML(value = \"\"\"<p><b>This code tells the user what the average electric bill would be for a household of similar size in their area</p></b><br>\n",
    "<p><b>Instructions:&nbsp;</p></b> \n",
    "<ol>\n",
    "    <li><mark>User must install Geopy</mark></li>\n",
    "    <li>Select the number of people in the household</li>\n",
    "    <li>Input your longitude and latitude <u>(note W and S should be entered as negative values)</u></li>\n",
    "    <li>Click the RUN button, the result will appear in red</li>\n",
    "</ol>\n",
    "<p><b>Sample Locations:</b></p>\n",
    "<ol>\n",
    "    <li>Boston College: &nbsp; Latittude: 42.33 , &nbsp;Longitude: -71.16</li>\n",
    "    <li>Phoenix Arizona: Latitude: 33.44 , &nbsp;Longitude: -112.07</li>\n",
    "    <li>Miami Florida:&nbsp; &nbsp; Latitude: 25.76 ,&nbsp; Longitude: -80.19</li>\n",
    "</ol>\n",
    "<p><br></p>\"\"\")\n",
    "\n",
    "input_text = widgets.Text(description = \"Latitude:\")   #creates textbox for latitude \n",
    "input_text2 = widgets.Text(description = \"Longitude:\") #creates textbox for longitude\n",
    "\n",
    "average_usage = 100    #daily average kilowat hours per person according to the EIA\n",
    "family_options = [1,2,3,4,5,6,7,8,9,10]  #establishes range of options for family size\n",
    "choice_out = widgets.Output()  #establishes range of options for family size\n",
    "choose_options = widgets.Select(\n",
    "    options= [1,2,3,4,5,6,7,8,9,10],  #options for the family size select widget \n",
    "    value=None,\n",
    "    description='Select family size' #description for select family size\n",
    ") \n",
    "def colored(r, g, b, text): #Allows us to make our final print statement green so it stands out and looks pretty\n",
    "    return \"\\033[38;2;{};{};{}m{} \\033[38;2;255;255;255m\".format(r, g, b, text)\n",
    "\n",
    "def binder(arg): #Function for our latitude and Longitude function\n",
    "    global latcord      #For our lat/long widget we make it a global variable in order to hold its value in whole code - easy troubleshooting\n",
    "    global longcord     \n",
    "    latcord = float(input_text.value) # change string input into a float\n",
    "    longcord = float(input_text2.value)\n",
    "    global price # define price inn whole code\n",
    "    key = 'K4iqHWH5XeOYh60uaQPD8AnfxHe72FEW4hYwvvAU'  #key for our powergrid API \n",
    "    lat = f\"&lat={latcord}\"   #In the API, this was used to pull our latitude data\n",
    "    long = f\"&lon={longcord}\" #In the API, this was used to pull our longitude data \n",
    "    site = \"https://developer.nrel.gov/api/utility_rates/v3.json?api_key=\" \n",
    "    response_object = urllib.request.urlopen(site+key+lat+long) # set responce object to propper format\n",
    "    response_string = response_object.read()     #code to read in our data from the API \n",
    "    response_as_dict = json.loads(response_string) #converts our data to a dictionary\n",
    "    price = response_as_dict['outputs']['residential'] #pulls the price of per kilowatt hour value out of the dictionary \n",
    "    \n",
    "    \n",
    "\n",
    "\n",
    "\n",
    "def estimated_price(c):  #function for determining the average price for certain areas\n",
    "    with choice_out:        \n",
    "    # initialize Nominatim API \n",
    "        global location #define variables as global for troubleshooting\n",
    "        global average_cost\n",
    "        geolocator = Nominatim(user_agent=\"geoapiExercises\") #\n",
    "        # Latitude & Longitude input\n",
    "        try:\n",
    "            Latitude = str(latcord) #geolocater requires lat long be strings\n",
    "            Longitude = str(longcord)\n",
    "            location = geolocator.reverse(Latitude+\",\"+Longitude) #use geolocater to set location\n",
    "            location = (str(location)).split(\",\") #make location a list\n",
    "            location = location[4]+\",\"+location[5] #pull only useful info from list\n",
    "            family_size = choose_options.value #sets the family size equal to the value that is selected in choose options\n",
    "            average_cost = ((average_usage*family_size+250)*price) #Calculates cost, factoring in a base value / intercept of 80KwH per household\n",
    "            print(colored(0,100,0,f'The average monthly electric bill for a family of {family_size} in {location} is ${int(average_cost)}.00'))\n",
    "        except: #if there is no data for that location, print the below statement\n",
    "            print(colored(200,100,0,f'No data for this location. Check the Coordinates. If problem persists try a nearby location for best estimate'))\n",
    "        \n",
    "my_button = widgets.Button(description = \"RUN\") #makes button widget\n",
    "my_button.on_click(binder) #run the two functions when the button is clicked\n",
    "my_button.on_click(estimated_price)\n",
    "choice_out #display select widget\n",
    "\n",
    "\n",
    "def make_boxes(): #used this function to organize our widgets visually\n",
    "    vbox1 = widgets.VBox([choose_options,  my_button]) #helps establish our choose_options widget in the far left of the screen\n",
    "    vbox2 = widgets.VBox([input_text, input_text2])  #helps move our latitude and longitude functions over to the right of the screen\n",
    "    return vbox1, vbox2\n",
    "vbox1, vbox2 = make_boxes()\n",
    "widgets.HBox([vbox1, vbox2])#returns the two widget boxes \n"
   ]
  }
 ],
 "metadata": {
  "colab": {
   "name": "FinalProject.ipynb",
   "provenance": []
  },
  "kernelspec": {
   "display_name": "Python 3 (ipykernel)",
   "language": "python",
   "name": "python3"
  },
  "language_info": {
   "codemirror_mode": {
    "name": "ipython",
    "version": 3
   },
   "file_extension": ".py",
   "mimetype": "text/x-python",
   "name": "python",
   "nbconvert_exporter": "python",
   "pygments_lexer": "ipython3",
   "version": "3.9.1"
  }
 },
 "nbformat": 4,
 "nbformat_minor": 5
}
